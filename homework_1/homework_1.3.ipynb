{
 "cells": [
  {
   "cell_type": "markdown",
   "id": "e2470f92-ef21-4961-9dce-b88401c79f86",
   "metadata": {},
   "source": [
    "## Задание 3. Создание собственных исключений\n",
    "Напишите программу, которая вычисляет сумму списка целых чисел. Создайте свои собственные классы исключений для обработки ситуаций, когда в списке есть хотя бы одно чётное или отрицательное число. Используйте оператор raise для генерации исключений."
   ]
  },
  {
   "cell_type": "code",
   "execution_count": 15,
   "id": "15a39849-1815-44e4-9358-ea13cd1f3d4f",
   "metadata": {},
   "outputs": [
    {
     "name": "stdin",
     "output_type": "stream",
     "text": [
      "Введите целые нечетные числа через пробел:  2 5 7 9\n"
     ]
    },
    {
     "name": "stdout",
     "output_type": "stream",
     "text": [
      "Ошибка: в списке есть четное число\n"
     ]
    }
   ],
   "source": [
    "class EvenNumberError(Exception):\n",
    "    pass\n",
    "    \n",
    "class NegativeNumberError(Exception):\n",
    "    pass\n",
    "\n",
    "try:\n",
    "    numbers = input('Введите целые нечетные числа через пробел: ')\n",
    "    numbers = [int(num) for num in numbers.split()]\n",
    "\n",
    "    for num in numbers:\n",
    "        if num < 0:\n",
    "            raise NegativeNumberError('Ошибка: в списке есть отрицательное число')\n",
    "        elif num % 2 == 0:\n",
    "            raise EvenNumberError('Ошибка: в списке есть четное число')\n",
    "except ValueError:\n",
    "    print('Ошибка: нужно вводить только целые числа через пробел')\n",
    "except (EvenNumberError, NegativeNumberError) as user_error:\n",
    "    print(user_error)\n",
    "else:\n",
    "    print(f'Сумма чисел: {sum(numbers)}')"
   ]
  }
 ],
 "metadata": {
  "kernelspec": {
   "display_name": "Python 3 (ipykernel)",
   "language": "python",
   "name": "python3"
  },
  "language_info": {
   "codemirror_mode": {
    "name": "ipython",
    "version": 3
   },
   "file_extension": ".py",
   "mimetype": "text/x-python",
   "name": "python",
   "nbconvert_exporter": "python",
   "pygments_lexer": "ipython3",
   "version": "3.12.4"
  }
 },
 "nbformat": 4,
 "nbformat_minor": 5
}
