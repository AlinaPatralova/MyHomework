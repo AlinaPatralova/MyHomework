{
 "cells": [
  {
   "cell_type": "markdown",
   "id": "b2fedf57-18d7-4855-9dfc-c00f81472307",
   "metadata": {},
   "source": [
    "## Задание 6. Обработка ошибок импорта модулей\n",
    "Напишите программу, которая импортирует модуль math и использует функцию sqrt() для вычисления квадратного корня числа, введённого пользователем. Используйте обработку исключений для корректной обработки ситуаций, когда модуль math не может быть импортирован или функция sqrt() не может быть вызвана для отрицательного числа."
   ]
  },
  {
   "cell_type": "code",
   "execution_count": 12,
   "id": "ad42489b-b3f5-484e-98af-27d83ba6340b",
   "metadata": {},
   "outputs": [
    {
     "name": "stdin",
     "output_type": "stream",
     "text": [
      "Введите неотрицательное число:  -1\n"
     ]
    },
    {
     "name": "stdout",
     "output_type": "stream",
     "text": [
      "Ошибка: число отрицательноe\n"
     ]
    }
   ],
   "source": [
    "class NumIsNegativeError(Exception):\n",
    "    pass\n",
    "\n",
    "try:\n",
    "    from math import sqrt\n",
    "    num = float(input('Введите неотрицательное число: '))\n",
    "    if num < 0:\n",
    "        raise NumIsNegativeError('Ошибка: число отрицательноe')\n",
    "    print(f'Квадратный корень числа {num} = {sqrt(num)}')\n",
    "except ImportError:\n",
    "    print('Ошибка: модуль math не может быть импортирован')\n",
    "except ValueError:\n",
    "    print('Ошибка: некорректный ввод числа')\n",
    "except NumIsNegativeError:\n",
    "    print('Ошибка: число отрицательноe')\n"
   ]
  }
 ],
 "metadata": {
  "kernelspec": {
   "display_name": "Python 3 (ipykernel)",
   "language": "python",
   "name": "python3"
  },
  "language_info": {
   "codemirror_mode": {
    "name": "ipython",
    "version": 3
   },
   "file_extension": ".py",
   "mimetype": "text/x-python",
   "name": "python",
   "nbconvert_exporter": "python",
   "pygments_lexer": "ipython3",
   "version": "3.12.4"
  }
 },
 "nbformat": 4,
 "nbformat_minor": 5
}
