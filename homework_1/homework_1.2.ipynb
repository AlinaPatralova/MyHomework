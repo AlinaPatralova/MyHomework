{
 "cells": [
  {
   "cell_type": "markdown",
   "id": "023c8b06-eb02-4d08-8b4b-0d6ff6e8f532",
   "metadata": {},
   "source": [
    "## Задание 2. Обработка некорректного ввода\n",
    "Расширьте предыдущую программу, чтобы она также обрабатывала ситуацию, когда пользователь вводит строку вместо числа. Используйте несколько блоков except для обработки разных типов исключений."
   ]
  },
  {
   "cell_type": "code",
   "execution_count": 3,
   "id": "84b983d7-d370-42f4-b581-6d88ff049d99",
   "metadata": {},
   "outputs": [
    {
     "name": "stdin",
     "output_type": "stream",
     "text": [
      "Введите первое число:  gh\n"
     ]
    },
    {
     "name": "stdout",
     "output_type": "stream",
     "text": [
      "Ошибка: нужно вводить только числа\n"
     ]
    }
   ],
   "source": [
    "try:\n",
    "    num1 = float(input(\"Введите первое число: \"))\n",
    "    num2 = float(input(\"Введите второе число: \"))\n",
    "    div = num1 / num2\n",
    "except ZeroDivisionError:\n",
    "    print(\"Ошибка: деление на ноль не определено\")\n",
    "else:\n",
    "    print(f\"Результат деления чисел: {div}\")"
   ]
  }
 ],
 "metadata": {
  "kernelspec": {
   "display_name": "Python 3 (ipykernel)",
   "language": "python",
   "name": "python3"
  },
  "language_info": {
   "codemirror_mode": {
    "name": "ipython",
    "version": 3
   },
   "file_extension": ".py",
   "mimetype": "text/x-python",
   "name": "python",
   "nbconvert_exporter": "python",
   "pygments_lexer": "ipython3",
   "version": "3.12.4"
  }
 },
 "nbformat": 4,
 "nbformat_minor": 5
}
