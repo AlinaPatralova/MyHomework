{
 "cells": [
  {
   "cell_type": "markdown",
   "id": "1612678b-5cd5-4e09-b82f-5741ff1d6cd7",
   "metadata": {},
   "source": [
    "## Задание 5. Обработка ошибок преобразования типов\n",
    "Напишите программу, которая принимает от пользователя строку и преобразует её в число с плавающей точкой. Используйте обработку исключений для корректной обработки ситуаций, когда пользователь вводит строку, которую невозможно преобразовать в число."
   ]
  },
  {
   "cell_type": "code",
   "execution_count": 23,
   "id": "f4d4c3aa-b2ff-4aae-8646-d624b3a2acdd",
   "metadata": {},
   "outputs": [
    {
     "name": "stdin",
     "output_type": "stream",
     "text": [
      "Введите число в формате n.n -  3,14\n"
     ]
    },
    {
     "name": "stdout",
     "output_type": "stream",
     "text": [
      "Ошибка: некорректный ввод числа. Повторите ввод заново\n"
     ]
    },
    {
     "name": "stdin",
     "output_type": "stream",
     "text": [
      "Введите число в формате n.n -  3.14\n"
     ]
    },
    {
     "name": "stdout",
     "output_type": "stream",
     "text": [
      "Значение успешно преобразовано в формат числа с плавающей точкой \n"
     ]
    }
   ],
   "source": [
    "while True:\n",
    "    try:\n",
    "        num_str = input('Введите число в формате n.n - ')\n",
    "        num = float(num_str)\n",
    "    except ValueError:\n",
    "        print('Ошибка: некорректный ввод числа. Повторите ввод заново')\n",
    "    else:\n",
    "        print('Значение успешно преобразовано в формат числа с плавающей точкой ')\n",
    "        break"
   ]
  }
 ],
 "metadata": {
  "kernelspec": {
   "display_name": "Python 3 (ipykernel)",
   "language": "python",
   "name": "python3"
  },
  "language_info": {
   "codemirror_mode": {
    "name": "ipython",
    "version": 3
   },
   "file_extension": ".py",
   "mimetype": "text/x-python",
   "name": "python",
   "nbconvert_exporter": "python",
   "pygments_lexer": "ipython3",
   "version": "3.12.4"
  }
 },
 "nbformat": 4,
 "nbformat_minor": 5
}
