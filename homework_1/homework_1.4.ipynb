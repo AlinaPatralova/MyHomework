{
 "cells": [
  {
   "cell_type": "markdown",
   "id": "c483b2df-dd90-4405-bd68-6f7c0410f059",
   "metadata": {},
   "source": [
    "## Задание 4. Обработка ошибок индексации\n",
    "Напишите программу, которая принимает от пользователя индекс элемента списка и выводит значение этого элемента. Используйте обработку исключений для корректной обработки ситуаций, когда пользователь вводит индекс, выходящий за пределы списка."
   ]
  },
  {
   "cell_type": "code",
   "execution_count": 14,
   "id": "c98bfd06-3dc1-44db-a94e-05ce54a70eb5",
   "metadata": {},
   "outputs": [
    {
     "name": "stdout",
     "output_type": "stream",
     "text": [
      "Допустимое значение индекса списка - целое число < 8\n"
     ]
    },
    {
     "name": "stdin",
     "output_type": "stream",
     "text": [
      "Введите индекс списка:  67\n"
     ]
    },
    {
     "name": "stdout",
     "output_type": "stream",
     "text": [
      "Ошибка: индекс выходит за пределы списка\n"
     ]
    }
   ],
   "source": [
    "dune_terms = [\n",
    "    \"Аракис\",\n",
    "    \"Шай-Хулуд\",\n",
    "    \"Бене Гессерит\",\n",
    "    \"Атрейдес\",\n",
    "    \"Харконнен\",\n",
    "    \"Моад'Диб\",\n",
    "    \"Ментат\",\n",
    "    \"Крис-нож\",\n",
    "]\n",
    "\n",
    "try:\n",
    "    print(f\"Допустимое значение индекса списка - целое число < {len(dune_terms)}\")\n",
    "    ind = int(input(\"Введите индекс списка: \"))\n",
    "    print(f\"Значение элемента списка под индексом {ind}: {dune_terms[ind]}\")\n",
    "except ValueError:\n",
    "    print(\"Ошибка: некорректно введен индекс\")\n",
    "except IndexError:\n",
    "    print(\"Ошибка: индекс выходит за пределы списка\")"
   ]
  }
 ],
 "metadata": {
  "kernelspec": {
   "display_name": "Python 3 (ipykernel)",
   "language": "python",
   "name": "python3"
  },
  "language_info": {
   "codemirror_mode": {
    "name": "ipython",
    "version": 3
   },
   "file_extension": ".py",
   "mimetype": "text/x-python",
   "name": "python",
   "nbconvert_exporter": "python",
   "pygments_lexer": "ipython3",
   "version": "3.12.4"
  }
 },
 "nbformat": 4,
 "nbformat_minor": 5
}
