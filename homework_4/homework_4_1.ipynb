{
 "cells": [
  {
   "cell_type": "markdown",
   "id": "569f41bc-f008-4604-93ee-6299343eaf32",
   "metadata": {},
   "source": [
    "### Задача 1. Базовые модели\n",
    "Создайте следующие Pydantic-модели:\n",
    "Book\n",
    "– title: str\n",
    "– author: str\n",
    "– year: int\n",
    "– available: bool\n",
    "User\n",
    "– name: str\n",
    "– email: str (с валидацией email)\n",
    "– membership_id: str"
   ]
  },
  {
   "cell_type": "code",
   "execution_count": 6,
   "id": "e9cef639-a9a5-4ad3-a366-f943e1409b0c",
   "metadata": {},
   "outputs": [],
   "source": [
    "from pydantic import BaseModel, EmailStr, Field\n",
    "\n",
    "class Book(BaseModel):\n",
    "    title: str\n",
    "    author: str\n",
    "    year: int = Field(..., ge=0, le=2100)\n",
    "    available: bool\n",
    "\n",
    "class User(BaseModel):\n",
    "    name: str\n",
    "    email: EmailStr\n",
    "    membership_id: str"
   ]
  }
 ],
 "metadata": {
  "kernelspec": {
   "display_name": "Python 3 (ipykernel)",
   "language": "python",
   "name": "python3"
  },
  "language_info": {
   "codemirror_mode": {
    "name": "ipython",
    "version": 3
   },
   "file_extension": ".py",
   "mimetype": "text/x-python",
   "name": "python",
   "nbconvert_exporter": "python",
   "pygments_lexer": "ipython3",
   "version": "3.12.4"
  }
 },
 "nbformat": 4,
 "nbformat_minor": 5
}
