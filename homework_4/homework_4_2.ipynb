{
 "cells": [
  {
   "cell_type": "markdown",
   "id": "b2c0ea11-c4ce-42a4-9517-8fbc0ce677e2",
   "metadata": {},
   "source": [
    "### Задача 2. Функции с аннотациями типов\n",
    "Напишите следующие функции, используя аннотации типов:\n",
    "\n",
    "add_book(...) -> ...\n",
    "find_book(...) -> ...\n",
    "is_book_borrow(...) -> ...\n",
    "return_book(...) -> ..."
   ]
  },
  {
   "cell_type": "code",
   "execution_count": 1,
   "id": "f8d842cb-7839-4f12-a479-5d978b92fdcd",
   "metadata": {},
   "outputs": [],
   "source": [
    "from pydantic import BaseModel, EmailStr, Field\n",
    "\n",
    "class Book(BaseModel):\n",
    "    title: str\n",
    "    author: str\n",
    "    year: int = Field(..., ge=0, le=2100)\n",
    "    available: bool = True        \n",
    "\n",
    "class User(BaseModel):\n",
    "    name: str\n",
    "    email: EmailStr\n",
    "    membership_id: str\n",
    "\n",
    "class BookNotFound(Exception):\n",
    "    pass\n",
    "\n",
    "class BookNotAvailable(Exception):\n",
    "    pass\n",
    "    \n",
    "class AlreadyReturned(Exception):\n",
    "    pass\n",
    "\n",
    "def add_book(catalog: list[Book], book: Book) -> None:\n",
    "    catalog.append(book)\n",
    "\n",
    "def find_book(catalog: list[Book], *, title: str | None = None, author: str | None = None, year: int | None = None) -> list[Book]:\n",
    "    return [book for book in catalog\n",
    "            if (title is None or book.title == title)\n",
    "            and (author is None or book.author == author)\n",
    "            and (year is None or book.year == year)]\n",
    "\n",
    "def is_book_borrow(catalog: list[Book], title: str) -> None:\n",
    "    for book in catalog:\n",
    "        if book.title == title:\n",
    "            if not book.available:\n",
    "                raise BookNotAvailable(f\"'{title}' уже выдана\")\n",
    "            book.available = False\n",
    "            return\n",
    "    raise BookNotFound(f\"'{title}' не найдена\")\n",
    "\n",
    "def return_book(catalog: list[Book], title: str) -> None:\n",
    "    for book in catalog:\n",
    "        if book.title == title:\n",
    "            if book.available:\n",
    "                raise AlreadyReturned(f\"'{title}' уже доступна\")\n",
    "            book.available = True\n",
    "            return\n",
    "    raise BookNotFound(f\"'{title}' не найдена\")\n",
    "    "
   ]
  }
 ],
 "metadata": {
  "kernelspec": {
   "display_name": "Python 3 (ipykernel)",
   "language": "python",
   "name": "python3"
  },
  "language_info": {
   "codemirror_mode": {
    "name": "ipython",
    "version": 3
   },
   "file_extension": ".py",
   "mimetype": "text/x-python",
   "name": "python",
   "nbconvert_exporter": "python",
   "pygments_lexer": "ipython3",
   "version": "3.12.4"
  }
 },
 "nbformat": 4,
 "nbformat_minor": 5
}
