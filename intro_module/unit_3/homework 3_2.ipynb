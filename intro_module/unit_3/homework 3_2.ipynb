{
 "cells": [
  {
   "cell_type": "code",
   "execution_count": 12,
   "id": "d5c3d5f0-b132-4488-9f2a-156c8b16b569",
   "metadata": {},
   "outputs": [
    {
     "name": "stdout",
     "output_type": "stream",
     "text": [
      "Поисковых запросов, содержащих 3 слов(а): 57.14%\n",
      "Поисковых запросов, содержащих 2 слов(а): 42.86%\n"
     ]
    }
   ],
   "source": [
    "queries = [\n",
    "    \"смотреть сериалы онлайн\",\n",
    "    \"новости спорта\",\n",
    "    \"афиша кино\",\n",
    "    \"курс доллара\",\n",
    "    \"сериалы этим летом\",\n",
    "    \"курс по питону\",\n",
    "    \"сериалы про спорт\",\n",
    "]\n",
    "\n",
    "cnt_word = dict()\n",
    "total = 0\n",
    "\n",
    "for el in queries:\n",
    "    lenght = len(el.split())\n",
    "    cnt_word[lenght] = cnt_word.setdefault(lenght, 0) + 1\n",
    "    total += 1\n",
    "\n",
    "for k, v in cnt_word.items():\n",
    "    print(f\"Поисковых запросов, содержащих {k} слов(а): {v / total * 100:.2f}%\")"
   ]
  }
 ],
 "metadata": {
  "kernelspec": {
   "display_name": "Python [conda env:base] *",
   "language": "python",
   "name": "conda-base-py"
  },
  "language_info": {
   "codemirror_mode": {
    "name": "ipython",
    "version": 3
   },
   "file_extension": ".py",
   "mimetype": "text/x-python",
   "name": "python",
   "nbconvert_exporter": "python",
   "pygments_lexer": "ipython3",
   "version": "3.13.5"
  }
 },
 "nbformat": 4,
 "nbformat_minor": 5
}
