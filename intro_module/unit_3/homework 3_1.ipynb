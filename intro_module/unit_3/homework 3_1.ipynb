{
 "cells": [
  {
   "cell_type": "code",
   "execution_count": 7,
   "id": "70debbf3-b537-4cdb-940d-2347f5229f83",
   "metadata": {},
   "outputs": [
    {
     "name": "stdout",
     "output_type": "stream",
     "text": [
      "{98, 35, 15, 213, 54, 119}\n"
     ]
    }
   ],
   "source": [
    "ids = {\n",
    "    \"user1\": [213, 213, 213, 15, 213],\n",
    "    \"user2\": [54, 54, 119, 119, 119],\n",
    "    \"user3\": [213, 98, 98, 35],\n",
    "}\n",
    "\n",
    "unique_ids = set()\n",
    "for numbers in ids.values():\n",
    "    unique_ids.update(numbers)\n",
    "\n",
    "print(unique_ids)"
   ]
  }
 ],
 "metadata": {
  "kernelspec": {
   "display_name": "Python [conda env:base] *",
   "language": "python",
   "name": "conda-base-py"
  },
  "language_info": {
   "codemirror_mode": {
    "name": "ipython",
    "version": 3
   },
   "file_extension": ".py",
   "mimetype": "text/x-python",
   "name": "python",
   "nbconvert_exporter": "python",
   "pygments_lexer": "ipython3",
   "version": "3.13.5"
  }
 },
 "nbformat": 4,
 "nbformat_minor": 5
}
