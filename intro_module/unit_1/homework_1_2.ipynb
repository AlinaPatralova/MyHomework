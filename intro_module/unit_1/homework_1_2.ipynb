{
 "cells": [
  {
   "cell_type": "code",
   "execution_count": 1,
   "id": "b116a064-c707-4c6e-9617-f1ef61ac301a",
   "metadata": {},
   "outputs": [
    {
     "name": "stdin",
     "output_type": "stream",
     "text": [
      "number =  980098\n"
     ]
    },
    {
     "name": "stdout",
     "output_type": "stream",
     "text": [
      "Счастливый билет\n"
     ]
    }
   ],
   "source": [
    "number = input(\"number = \")\n",
    "\n",
    "if len(number) == 6 and number.isdigit():\n",
    "    num_list = list(map(int, number))\n",
    "    if sum(num_list[:3]) == sum(num_list[3:]):\n",
    "        print(\"Счастливый билет\")\n",
    "    else:\n",
    "        print(\"Несчастливый билет\")\n",
    "else:\n",
    "    print(\"Введите число, состоящие из 6 цифр\")"
   ]
  }
 ],
 "metadata": {
  "kernelspec": {
   "display_name": "Python [conda env:base] *",
   "language": "python",
   "name": "conda-base-py"
  },
  "language_info": {
   "codemirror_mode": {
    "name": "ipython",
    "version": 3
   },
   "file_extension": ".py",
   "mimetype": "text/x-python",
   "name": "python",
   "nbconvert_exporter": "python",
   "pygments_lexer": "ipython3",
   "version": "3.13.5"
  }
 },
 "nbformat": 4,
 "nbformat_minor": 5
}
