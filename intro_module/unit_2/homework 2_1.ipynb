{
 "cells": [
  {
   "cell_type": "code",
   "execution_count": 5,
   "id": "eadd6989-b360-4bcd-b7c6-14084a6e137f",
   "metadata": {},
   "outputs": [
    {
     "name": "stdin",
     "output_type": "stream",
     "text": [
      "word =  geek\n"
     ]
    },
    {
     "name": "stdout",
     "output_type": "stream",
     "text": [
      "ee\n"
     ]
    }
   ],
   "source": [
    "word = input(\"word = \")\n",
    "length = len(word)\n",
    "half_length = len(word) // 2\n",
    "\n",
    "if length % 2 == 0:\n",
    "    print(word[half_length - 1 : half_length + 1])\n",
    "else:\n",
    "    print(word[half_length : half_length + 1])"
   ]
  }
 ],
 "metadata": {
  "kernelspec": {
   "display_name": "Python [conda env:base] *",
   "language": "python",
   "name": "conda-base-py"
  },
  "language_info": {
   "codemirror_mode": {
    "name": "ipython",
    "version": 3
   },
   "file_extension": ".py",
   "mimetype": "text/x-python",
   "name": "python",
   "nbconvert_exporter": "python",
   "pygments_lexer": "ipython3",
   "version": "3.13.5"
  }
 },
 "nbformat": 4,
 "nbformat_minor": 5
}
