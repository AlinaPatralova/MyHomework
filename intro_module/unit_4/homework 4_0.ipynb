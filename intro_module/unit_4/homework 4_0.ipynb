{
 "cells": [
  {
   "cell_type": "code",
   "execution_count": 29,
   "id": "2de8709d-9893-44a6-9d2e-5e522f16298e",
   "metadata": {},
   "outputs": [
    {
     "name": "stdin",
     "output_type": "stream",
     "text": [
      "Введите команду (p, s, q):  q\n"
     ]
    },
    {
     "name": "stdout",
     "output_type": "stream",
     "text": [
      "Работа завершена\n"
     ]
    }
   ],
   "source": [
    "documents = [\n",
    "    {\"type\": \"passport\", \"number\": \"2207 876234\", \"name\": \"Василий Гупкин\"},\n",
    "    {\"type\": \"invoice\", \"number\": \"11-2\", \"name\": \"Геннадий Покемонов\"},\n",
    "    {\"type\": \"insurance\", \"number\": \"10006\", \"name\": \"Аристарх Павлов\"},\n",
    "]\n",
    "\n",
    "\n",
    "directories = {\"1\": [\"2207 876234\", \"11-2\"], \"2\": [\"10006\"], \"3\": []}\n",
    "\n",
    "\n",
    "def get_name(num_doc) -> str:\n",
    "    \"\"\"Возвращает имя владельца документа по его номеру\"\"\"\n",
    "    for el in documents:\n",
    "        if num_doc == el[\"number\"]:\n",
    "            return f\"Владелец документа: {el['name']}\"\n",
    "    return \"Документ не найден\"\n",
    "\n",
    "\n",
    "def get_shelf_num(num_doc):\n",
    "    \"\"\"Возвращает номер полки, где хранится документ\"\"\"\n",
    "    for el in directories:\n",
    "        if num_doc in directories[el]:\n",
    "            return f\"Документ хранится на полке: {el}\"\n",
    "    return \"Документ не найден\"\n",
    "\n",
    "\n",
    "def main():\n",
    "    while True:\n",
    "        command = input(\"Введите команду (p, s, q): \").strip().lower()\n",
    "\n",
    "        if command not in (\"p\", \"s\", \"q\"):\n",
    "            print(\"Введите корректную информацию\")\n",
    "            continue\n",
    "\n",
    "        if command == \"p\":\n",
    "            num_doc = input(\"Введите номер документа: \")\n",
    "            print(get_name(num_doc))\n",
    "\n",
    "        if command == \"s\":\n",
    "            num_doc = input(\"Введите номер документа: \")\n",
    "            print(get_shelf_num(num_doc))\n",
    "\n",
    "        if command == \"q\":\n",
    "            print(\"Работа завершена\")\n",
    "            break\n",
    "\n",
    "\n",
    "main()"
   ]
  },
  {
   "cell_type": "code",
   "execution_count": null,
   "id": "60335c90-3e2b-4a88-840f-c32df75eeb61",
   "metadata": {},
   "outputs": [],
   "source": []
  }
 ],
 "metadata": {
  "kernelspec": {
   "display_name": "Python [conda env:base] *",
   "language": "python",
   "name": "conda-base-py"
  },
  "language_info": {
   "codemirror_mode": {
    "name": "ipython",
    "version": 3
   },
   "file_extension": ".py",
   "mimetype": "text/x-python",
   "name": "python",
   "nbconvert_exporter": "python",
   "pygments_lexer": "ipython3",
   "version": "3.13.5"
  }
 },
 "nbformat": 4,
 "nbformat_minor": 5
}
