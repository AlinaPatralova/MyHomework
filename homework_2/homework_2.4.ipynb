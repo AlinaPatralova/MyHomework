{
 "cells": [
  {
   "cell_type": "markdown",
   "id": "0a2cdf02-5533-4d26-8062-796ca08c4555",
   "metadata": {},
   "source": [
    "## Задание 4. Копирование уникального содержимого одного файла в другой\n",
    "Создайте программу, которая считывает строки из файла input.txt, сохраняет только уникальные строки и записывает их в новый файл unique_output.txt."
   ]
  },
  {
   "cell_type": "code",
   "execution_count": 13,
   "id": "e58d7c80-0c1d-4b30-9cab-a1a14036b138",
   "metadata": {},
   "outputs": [],
   "source": [
    "with open(\"C:/Users/patra/Desktop/МФТИ/Python/Homework/homework_2/Doc/input.txt\", \"r\", encoding=\"utf-8\") as file:\n",
    "    unique_lines = set()\n",
    "    for line in file:\n",
    "        clean_line = line.strip()\n",
    "        if clean_line:\n",
    "            unique_lines.add(clean_line)\n",
    "\n",
    "with open(\"C:/Users/patra/Desktop/МФТИ/Python/Homework/homework_2/Doc/unique_output.txt.\", \"w\", encoding=\"utf-8\") as out:\n",
    "    for el in unique_lines:\n",
    "        out.write(el + \"\\n\")"
   ]
  }
 ],
 "metadata": {
  "kernelspec": {
   "display_name": "Python 3 (ipykernel)",
   "language": "python",
   "name": "python3"
  },
  "language_info": {
   "codemirror_mode": {
    "name": "ipython",
    "version": 3
   },
   "file_extension": ".py",
   "mimetype": "text/x-python",
   "name": "python",
   "nbconvert_exporter": "python",
   "pygments_lexer": "ipython3",
   "version": "3.12.4"
  }
 },
 "nbformat": 4,
 "nbformat_minor": 5
}
