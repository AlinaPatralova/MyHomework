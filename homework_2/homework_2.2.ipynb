{
 "cells": [
  {
   "cell_type": "markdown",
   "id": "13c07877-e2eb-4633-b2e6-3b360fc07273",
   "metadata": {},
   "source": [
    "## Задание 2. Подсчёт стоимости заказа из файла\n",
    "Напишите программу, которая считывает файл prices.txt, содержащий информацию о товарах: название, количество и цену, и подсчитывает общую стоимость заказа."
   ]
  },
  {
   "cell_type": "code",
   "execution_count": 8,
   "id": "90d959a8-181d-464a-896f-16cd13a5741b",
   "metadata": {},
   "outputs": [
    {
     "name": "stdout",
     "output_type": "stream",
     "text": [
      "650\n"
     ]
    }
   ],
   "source": [
    "with open(\"C:/Users/patra/Desktop/МФТИ/Python/Homework/homework_2/Doc/prices.txt\", \"r\", encoding=\"utf-8\") as file:\n",
    "    total = 0\n",
    "    for line in file:\n",
    "        product = line.strip().split()\n",
    "        name, quantity, price = product\n",
    "        try:\n",
    "            total += int(quantity) * int(price)\n",
    "        except ValueError:\n",
    "            print(f'Ошибка в строке: {line.strip()}')\n",
    "    print(total)"
   ]
  }
 ],
 "metadata": {
  "kernelspec": {
   "display_name": "Python 3 (ipykernel)",
   "language": "python",
   "name": "python3"
  },
  "language_info": {
   "codemirror_mode": {
    "name": "ipython",
    "version": 3
   },
   "file_extension": ".py",
   "mimetype": "text/x-python",
   "name": "python",
   "nbconvert_exporter": "python",
   "pygments_lexer": "ipython3",
   "version": "3.12.4"
  }
 },
 "nbformat": 4,
 "nbformat_minor": 5
}
