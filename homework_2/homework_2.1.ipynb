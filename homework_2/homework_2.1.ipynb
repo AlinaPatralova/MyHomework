{
 "cells": [
  {
   "cell_type": "markdown",
   "id": "499e1192-f794-4a33-8ade-18d4d573e5f3",
   "metadata": {},
   "source": [
    "## Задание 1. Копирование содержимого одного файла в другой\n",
    "Создайте программу, которая копирует содержимое файла source.txt в новый файл destination.txt."
   ]
  },
  {
   "cell_type": "code",
   "execution_count": 3,
   "id": "89d27d84-caab-49dd-8638-0c9b6adf4cf6",
   "metadata": {},
   "outputs": [],
   "source": [
    "with open(\"C:/Users/patra/Desktop/МФТИ/Python/Homework/homework_2/Doc/source.txt\", \"r\", encoding=\"utf-8\") as s:\n",
    "    text = s.read()\n",
    "\n",
    "with open(\"C:/Users/patra/Desktop/МФТИ/Python/Homework/homework_2/Doc/destination.txt.\", \"w\", encoding=\"utf-8\") as d:\n",
    "    d.write(text)"
   ]
  }
 ],
 "metadata": {
  "kernelspec": {
   "display_name": "Python 3 (ipykernel)",
   "language": "python",
   "name": "python3"
  },
  "language_info": {
   "codemirror_mode": {
    "name": "ipython",
    "version": 3
   },
   "file_extension": ".py",
   "mimetype": "text/x-python",
   "name": "python",
   "nbconvert_exporter": "python",
   "pygments_lexer": "ipython3",
   "version": "3.12.4"
  }
 },
 "nbformat": 4,
 "nbformat_minor": 5
}
