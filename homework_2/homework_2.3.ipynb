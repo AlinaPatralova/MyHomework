{
 "cells": [
  {
   "cell_type": "markdown",
   "id": "a7869cd8-4cad-4973-9cf7-d4eebe46b1ec",
   "metadata": {},
   "source": [
    "## Задание 3. Подсчёт количества слов в файле\n",
    "Напишите программу, которая подсчитывает количество слов в текстовом файле text_file.txt и выводит результат на экран."
   ]
  },
  {
   "cell_type": "code",
   "execution_count": 24,
   "id": "1283255e-0dd3-44b0-9977-ba4ed4446220",
   "metadata": {},
   "outputs": [
    {
     "name": "stdout",
     "output_type": "stream",
     "text": [
      "Количество слов: 19\n"
     ]
    }
   ],
   "source": [
    "with open(\"C:/Users/patra/Desktop/МФТИ/Python/Homework/homework_2/Doc/text_file.txt\", \"r\", encoding=\"utf-8\") as file:\n",
    "    total = 0\n",
    "    for line in file:\n",
    "        words = line.strip().split()\n",
    "        for word in words:\n",
    "            word = word.strip(\"—–-.,!?;:\")  \n",
    "            if word:\n",
    "                total += 1\n",
    "\n",
    "print(f\"Количество слов: {total}\")\n"
   ]
  }
 ],
 "metadata": {
  "kernelspec": {
   "display_name": "Python 3 (ipykernel)",
   "language": "python",
   "name": "python3"
  },
  "language_info": {
   "codemirror_mode": {
    "name": "ipython",
    "version": 3
   },
   "file_extension": ".py",
   "mimetype": "text/x-python",
   "name": "python",
   "nbconvert_exporter": "python",
   "pygments_lexer": "ipython3",
   "version": "3.12.4"
  }
 },
 "nbformat": 4,
 "nbformat_minor": 5
}
