{
 "cells": [
  {
   "cell_type": "markdown",
   "id": "c91b4694-f7ec-492a-90df-ab0041f72fc5",
   "metadata": {},
   "source": [
    "### Задание 1.\n",
    "Напишите программу, которая создаёт 2 потока для вычисления квадратов и кубов целых чисел от 1 до 10."
   ]
  },
  {
   "cell_type": "code",
   "execution_count": 6,
   "id": "21bb95a0-52ce-4bac-a6f1-adf79a825801",
   "metadata": {},
   "outputs": [
    {
     "name": "stdout",
     "output_type": "stream",
     "text": [
      "Квадрат числа 1 = 1\n",
      "Квадрат числа 2 = 4\n",
      "Квадрат числа 3 = 9\n",
      "Квадрат числа 4 = 16\n",
      "Квадрат числа 5 = 25\n",
      "Квадрат числа 6 = 36\n",
      "Квадрат числа 7 = 49\n",
      "Квадрат числа 8 = 64\n",
      "Квадрат числа 9 = 81\n",
      "Квадрат числа 10 = 100\n",
      "Куб числа 1 = 1\n",
      "Куб числа 2 = 8\n",
      "Куб числа 3 = 27\n",
      "Куб числа 4 = 64\n",
      "Куб числа 5 = 125\n",
      "Куб числа 6 = 216\n",
      "Куб числа 7 = 343\n",
      "Куб числа 8 = 512\n",
      "Куб числа 9 = 729\n",
      "Куб числа 10 = 1000\n",
      "Вычисления завершены\n"
     ]
    }
   ],
   "source": [
    "import threading\n",
    "\n",
    "def square():\n",
    "    for i in range(1, 11):\n",
    "        print(f'Квадрат числа {i} = {i ** 2}')\n",
    "\n",
    "def cube():\n",
    "    for i in range(1, 11):\n",
    "        print(f'Куб числа {i} = {i ** 3}')\n",
    "\n",
    "t1 = threading.Thread(target=square)\n",
    "t2 = threading.Thread(target=cube)\n",
    "\n",
    "t1.start()\n",
    "t2.start()\n",
    "\n",
    "t1.join()\n",
    "t2.join()\n",
    "\n",
    "print('Вычисления завершены')\n"
   ]
  }
 ],
 "metadata": {
  "kernelspec": {
   "display_name": "Python 3 (ipykernel)",
   "language": "python",
   "name": "python3"
  },
  "language_info": {
   "codemirror_mode": {
    "name": "ipython",
    "version": 3
   },
   "file_extension": ".py",
   "mimetype": "text/x-python",
   "name": "python",
   "nbconvert_exporter": "python",
   "pygments_lexer": "ipython3",
   "version": "3.12.4"
  }
 },
 "nbformat": 4,
 "nbformat_minor": 5
}
